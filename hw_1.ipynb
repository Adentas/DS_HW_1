{
 "cells": [
  {
   "cell_type": "code",
   "execution_count": 2,
   "id": "8799c243-24f8-4fbf-b0d1-057ebde99f95",
   "metadata": {},
   "outputs": [],
   "source": [
    "import numpy as np"
   ]
  },
  {
   "cell_type": "code",
   "execution_count": 3,
   "id": "62dad188-41cf-47d9-a0b5-9c55bccaf486",
   "metadata": {},
   "outputs": [
    {
     "name": "stdout",
     "output_type": "stream",
     "text": [
      "\n",
      "Завдання 1\n",
      "Вектор з першими 10 натуральними числами: [ 1  2  3  4  5  6  7  8  9 10]\n"
     ]
    }
   ],
   "source": [
    "# Завдання 1\n",
    "print(\"\\nЗавдання 1\")\n",
    "vector1 = np.array([1, 2, 3, 4, 5, 6, 7, 8, 9, 10])\n",
    "print(\"Вектор з першими 10 натуральними числами:\", vector1)"
   ]
  },
  {
   "cell_type": "code",
   "execution_count": 4,
   "id": "02dc24f4-49cf-493f-8d01-b0f9b4b8f897",
   "metadata": {},
   "outputs": [
    {
     "name": "stdout",
     "output_type": "stream",
     "text": [
      "\n",
      "Завдання 2\n",
      "Двовимірний масив розміром 3x3, заповнений нулями:\n",
      " [[0. 0. 0.]\n",
      " [0. 0. 0.]\n",
      " [0. 0. 0.]]\n"
     ]
    }
   ],
   "source": [
    "# Завдання 2\n",
    "print(\"\\nЗавдання 2\")\n",
    "matrix2 = np.zeros((3, 3))\n",
    "print(\"Двовимірний масив розміром 3x3, заповнений нулями:\\n\", matrix2)"
   ]
  },
  {
   "cell_type": "code",
   "execution_count": 5,
   "id": "3ef5fa89-9d50-409a-ade1-434d9bb34a54",
   "metadata": {},
   "outputs": [
    {
     "name": "stdout",
     "output_type": "stream",
     "text": [
      "\n",
      "Завдання 3\n",
      "Масив розміром 5x5 з випадковими цілими числами від 1 до 10:\n",
      " [[10 10  3  2 10]\n",
      " [ 5  9  9 10  9]\n",
      " [ 9  7  2  7  5]\n",
      " [ 3  3  7  5  2]\n",
      " [ 2  4  2 10  3]]\n"
     ]
    }
   ],
   "source": [
    "# Завдання 3\n",
    "print(\"\\nЗавдання 3\")\n",
    "matrix3 = np.random.randint(1, 11, size=(5, 5))\n",
    "print(\"Масив розміром 5x5 з випадковими цілими числами від 1 до 10:\\n\", matrix3)"
   ]
  },
  {
   "cell_type": "code",
   "execution_count": 6,
   "id": "204a2b34-c96d-484f-a06d-3f6d57da9f0c",
   "metadata": {},
   "outputs": [
    {
     "name": "stdout",
     "output_type": "stream",
     "text": [
      "\n",
      "Завдання 4\n",
      "Масив розміром 4x4 з випадковими дійсними числами від 0 до 1:\n",
      " [[0.58218163 0.21376676 0.87008055 0.17401754]\n",
      " [0.40262655 0.45895729 0.68541036 0.93397922]\n",
      " [0.20899653 0.53912518 0.97680109 0.71859643]\n",
      " [0.54074942 0.54955905 0.33367811 0.25062257]]\n"
     ]
    }
   ],
   "source": [
    "# Завдання 4\n",
    "print(\"\\nЗавдання 4\")\n",
    "matrix4 = np.random.rand(4, 4)\n",
    "print(\"Масив розміром 4x4 з випадковими дійсними числами від 0 до 1:\\n\", matrix4)"
   ]
  },
  {
   "cell_type": "code",
   "execution_count": 7,
   "id": "bcb13115",
   "metadata": {},
   "outputs": [
    {
     "name": "stdout",
     "output_type": "stream",
     "text": [
      "\n",
      "Завдання 5\n",
      "Одновимірний масив 1: [8 4 6 5 9]\n",
      "Одновимірний масив 2: [1 1 1 9 6]\n",
      "Сума: [ 9  5  7 14 15]\n",
      "Різниця: [ 7  3  5 -4  3]\n",
      "Множення: [ 8  4  6 45 54]\n"
     ]
    }
   ],
   "source": [
    "# Завдання 5\n",
    "print(\"\\nЗавдання 5\")\n",
    "array5a = np.random.randint(1, 11, size=5)\n",
    "array5b = np.random.randint(1, 11, size=5)\n",
    "\n",
    "print(\"Одновимірний масив 1:\", array5a)\n",
    "print(\"Одновимірний масив 2:\", array5b)\n",
    "print(\"Сума:\", array5a + array5b)\n",
    "print(\"Різниця:\", array5a - array5b)\n",
    "print(\"Множення:\", array5a * array5b)"
   ]
  },
  {
   "cell_type": "code",
   "execution_count": 8,
   "id": "4151eacd",
   "metadata": {},
   "outputs": [
    {
     "name": "stdout",
     "output_type": "stream",
     "text": [
      "\n",
      "Завдання 6\n",
      "Вектор 1: [ 1 10 10  4 10  2  5]\n",
      "Вектор 2: [10  2  6  1  8  4  2]\n",
      "Скалярний добуток: 192\n"
     ]
    }
   ],
   "source": [
    "# Завдання 6\n",
    "print(\"\\nЗавдання 6\")\n",
    "vector6a = np.random.randint(1, 11, size=7)\n",
    "vector6b = np.random.randint(1, 11, size=7)\n",
    "scalar_product = np.dot(vector6a, vector6b)\n",
    "print(\"Вектор 1:\", vector6a)\n",
    "print(\"Вектор 2:\", vector6b)\n",
    "print(\"Скалярний добуток:\", scalar_product)"
   ]
  },
  {
   "cell_type": "code",
   "execution_count": 9,
   "id": "a4ebe464",
   "metadata": {},
   "outputs": [
    {
     "name": "stdout",
     "output_type": "stream",
     "text": [
      "\n",
      "Завдання 7\n",
      "Матриця 1:\n",
      " [[ 9  3]\n",
      " [ 9 10]]\n",
      "Матриця 2:\n",
      " [[ 7  4  5]\n",
      " [ 8 10  2]]\n",
      "Результат множення матриць:\n",
      " [[ 87  66  51]\n",
      " [143 136  65]]\n"
     ]
    }
   ],
   "source": [
    "# Завдання 7\n",
    "print(\"\\nЗавдання 7\")\n",
    "matrix7a = np.random.randint(1, 11, size=(2, 2))\n",
    "matrix7b = np.random.randint(1, 11, size=(2, 3))\n",
    "product7 = np.dot(matrix7a, matrix7b)\n",
    "print(\"Матриця 1:\\n\", matrix7a)\n",
    "print(\"Матриця 2:\\n\", matrix7b)\n",
    "print(\"Результат множення матриць:\\n\", product7)"
   ]
  },
  {
   "cell_type": "code",
   "execution_count": 10,
   "id": "5a054eb2",
   "metadata": {},
   "outputs": [
    {
     "name": "stdout",
     "output_type": "stream",
     "text": [
      "\n",
      "Завдання 8\n",
      "Матриця:\n",
      " [[ 5  5  6]\n",
      " [ 8  8 10]\n",
      " [ 7  1  7]]\n",
      "Обернена матриця:\n",
      " [[ 3.83333333 -2.41666667  0.16666667]\n",
      " [ 1.16666667 -0.58333333 -0.16666667]\n",
      " [-4.          2.5        -0.        ]]\n"
     ]
    }
   ],
   "source": [
    "# Завдання 8\n",
    "print(\"\\nЗавдання 8\")\n",
    "matrix8 = np.random.randint(1, 11, size=(3, 3))\n",
    "inverse_matrix8 = np.linalg.inv(matrix8)\n",
    "print(\"Матриця:\\n\", matrix8)\n",
    "print(\"Обернена матриця:\\n\", inverse_matrix8)"
   ]
  },
  {
   "cell_type": "code",
   "execution_count": 11,
   "id": "b95224f2",
   "metadata": {},
   "outputs": [
    {
     "name": "stdout",
     "output_type": "stream",
     "text": [
      "\n",
      "Завдання 9\n",
      "Матриця:\n",
      " [[0.70255633 0.06182197 0.82048064 0.44023123]\n",
      " [0.45867941 0.57249802 0.03254892 0.80660113]\n",
      " [0.72332066 0.41815865 0.0607526  0.56014201]\n",
      " [0.4966667  0.88986065 0.74114986 0.72665188]]\n",
      "Транспонована матриця:\n",
      " [[0.70255633 0.45867941 0.72332066 0.4966667 ]\n",
      " [0.06182197 0.57249802 0.41815865 0.88986065]\n",
      " [0.82048064 0.03254892 0.0607526  0.74114986]\n",
      " [0.44023123 0.80660113 0.56014201 0.72665188]]\n"
     ]
    }
   ],
   "source": [
    "# Завдання 9\n",
    "print(\"\\nЗавдання 9\")\n",
    "matrix9 = np.random.rand(4, 4)\n",
    "transposed_matrix9 = matrix9.T\n",
    "print(\"Матриця:\\n\", matrix9)\n",
    "print(\"Транспонована матриця:\\n\", transposed_matrix9)"
   ]
  },
  {
   "cell_type": "code",
   "execution_count": 12,
   "id": "b709bd09",
   "metadata": {},
   "outputs": [
    {
     "name": "stdout",
     "output_type": "stream",
     "text": [
      "\n",
      "Завдання 10\n",
      "Матриця:\n",
      " [[ 9  4  2  4]\n",
      " [ 3  1  9  1]\n",
      " [ 3  4 10  9]]\n",
      "Вектор:\n",
      " [ 5  7  4 10]\n",
      "Результат множення матриці на вектор:\n",
      " [121  68 173]\n"
     ]
    }
   ],
   "source": [
    "# Завдання 10\n",
    "print(\"\\nЗавдання 10\")\n",
    "matrix10 = np.random.randint(1, 11, size=(3, 4))\n",
    "vector10 = np.random.randint(1, 11, size=4)\n",
    "result10 = np.dot(matrix10, vector10)\n",
    "print(\"Матриця:\\n\", matrix10)\n",
    "print(\"Вектор:\\n\", vector10)\n",
    "print(\"Результат множення матриці на вектор:\\n\", result10)"
   ]
  },
  {
   "cell_type": "code",
   "execution_count": 13,
   "id": "a86d3297",
   "metadata": {},
   "outputs": [
    {
     "name": "stdout",
     "output_type": "stream",
     "text": [
      "\n",
      "Завдання 11\n",
      "Матриця:\n",
      " [[0.69498829 0.27625872 0.53051297]\n",
      " [0.24926225 0.49900192 0.63630978]]\n",
      "Вектор:\n",
      " [0.35209775 0.1040271  0.67489124]\n",
      "Результат множення матриці на вектор:\n",
      " [0.63148077 0.5691143 ]\n"
     ]
    }
   ],
   "source": [
    "# Завдання 11\n",
    "print(\"\\nЗавдання 11\")\n",
    "matrix11 = np.random.rand(2, 3)\n",
    "vector11 = np.random.rand(3)\n",
    "result11 = np.dot(matrix11, vector11)\n",
    "print(\"Матриця:\\n\", matrix11)\n",
    "print(\"Вектор:\\n\", vector11)\n",
    "print(\"Результат множення матриці на вектор:\\n\", result11)"
   ]
  },
  {
   "cell_type": "code",
   "execution_count": 14,
   "id": "ec96cc1e",
   "metadata": {},
   "outputs": [
    {
     "name": "stdout",
     "output_type": "stream",
     "text": [
      "\n",
      "Завдання 12\n",
      "Матриця 1:\n",
      " [[6 3]\n",
      " [3 2]]\n",
      "Матриця 2:\n",
      " [[1 3]\n",
      " [7 4]]\n",
      "Поелементне множення матриць:\n",
      " [[ 6  9]\n",
      " [21  8]]\n"
     ]
    }
   ],
   "source": [
    "# Завдання 12\n",
    "print(\"\\nЗавдання 12\")\n",
    "matrix12a = np.random.randint(1, 11, size=(2, 2))\n",
    "matrix12b = np.random.randint(1, 11, size=(2, 2))\n",
    "elementwise_product = matrix12a * matrix12b\n",
    "print(\"Матриця 1:\\n\", matrix12a)\n",
    "print(\"Матриця 2:\\n\", matrix12b)\n",
    "print(\"Поелементне множення матриць:\\n\", elementwise_product)"
   ]
  },
  {
   "cell_type": "code",
   "execution_count": 15,
   "id": "d0244e11",
   "metadata": {},
   "outputs": [
    {
     "name": "stdout",
     "output_type": "stream",
     "text": [
      "\n",
      "Завдання 13\n",
      "Матриця 1:\n",
      " [[ 9  1]\n",
      " [10  2]]\n",
      "Матриця 2:\n",
      " [[4 2]\n",
      " [9 8]]\n",
      "Добуток матриць:\n",
      " [[45 26]\n",
      " [58 36]]\n"
     ]
    }
   ],
   "source": [
    "# Завдання 13\n",
    "print(\"\\nЗавдання 13\")\n",
    "matrix13a = np.random.randint(1, 11, size=(2, 2))\n",
    "matrix13b = np.random.randint(1, 11, size=(2, 2))\n",
    "product13 = np.dot(matrix13a, matrix13b)\n",
    "print(\"Матриця 1:\\n\", matrix13a)\n",
    "print(\"Матриця 2:\\n\", matrix13b)\n",
    "print(\"Добуток матриць:\\n\", product13)"
   ]
  },
  {
   "cell_type": "code",
   "execution_count": 16,
   "id": "64f84de7",
   "metadata": {},
   "outputs": [
    {
     "name": "stdout",
     "output_type": "stream",
     "text": [
      "\n",
      "Завдання 14\n",
      "Матриця 5x5 з випадковими цілими числами від 1 до 100:\n",
      " [[ 89  95  42  52  51]\n",
      " [ 37  28  62  36  74]\n",
      " [ 12  40  44 100  96]\n",
      " [ 43  45  70  47  40]\n",
      " [ 58  94  11  48  52]]\n",
      "Сума елементів матриці:\n",
      " 1366\n"
     ]
    }
   ],
   "source": [
    "# Завдання 14\n",
    "print(\"\\nЗавдання 14\")\n",
    "matrix14 = np.random.randint(1, 101, size=(5, 5))\n",
    "sum_matrix14 = np.sum(matrix14)\n",
    "print(\"Матриця 5x5 з випадковими цілими числами від 1 до 100:\\n\", matrix14)\n",
    "print(\"Сума елементів матриці:\\n\", sum_matrix14)"
   ]
  },
  {
   "cell_type": "code",
   "execution_count": 17,
   "id": "65d47db7",
   "metadata": {},
   "outputs": [
    {
     "name": "stdout",
     "output_type": "stream",
     "text": [
      "\n",
      "Завдання 15\n",
      "Матриця 1:\n",
      " [[ 7  8  1  5]\n",
      " [ 4 10  8  5]\n",
      " [ 6  9  9  9]\n",
      " [ 6  5  8  7]]\n",
      "Матриця 2:\n",
      " [[ 6  1  3  1]\n",
      " [ 7  4  9  3]\n",
      " [ 7  5  8  9]\n",
      " [10  6  8  4]]\n",
      "Різниця матриць:\n",
      " [[ 1  7 -2  4]\n",
      " [-3  6 -1  2]\n",
      " [-1  4  1  0]\n",
      " [-4 -1  0  3]]\n"
     ]
    }
   ],
   "source": [
    "# Завдання 15\n",
    "print(\"\\nЗавдання 15\")\n",
    "matrix15a = np.random.randint(1, 11, size=(4, 4))\n",
    "matrix15b = np.random.randint(1, 11, size=(4, 4))\n",
    "difference15 = matrix15a - matrix15b\n",
    "print(\"Матриця 1:\\n\", matrix15a)\n",
    "print(\"Матриця 2:\\n\", matrix15b)\n",
    "print(\"Різниця матриць:\\n\", difference15)"
   ]
  },
  {
   "cell_type": "code",
   "execution_count": 18,
   "id": "236352d4",
   "metadata": {},
   "outputs": [
    {
     "name": "stdout",
     "output_type": "stream",
     "text": [
      "\n",
      "Завдання 16\n",
      "Матриця 3x3 з випадковими дійсними числами від 0 до 1:\n",
      " [[0.82385898 0.51464132 0.64771883]\n",
      " [0.72113337 0.83282431 0.85679986]\n",
      " [0.89477798 0.71918362 0.7880768 ]]\n",
      "Вектор-стовпчик сум елементів кожного рядка:\n",
      " [[1.98621913]\n",
      " [2.41075754]\n",
      " [2.4020384 ]]\n"
     ]
    }
   ],
   "source": [
    "# Завдання 16\n",
    "print(\"\\nЗавдання 16\")\n",
    "matrix16 = np.random.rand(3, 3)\n",
    "row_sum_vector16 = np.sum(matrix16, axis=1)\n",
    "\n",
    "# Використання reshape() для зміни розмірності вектора на (3, 1) - вертикальний вектор\n",
    "row_sum_vector16 = row_sum_vector16.reshape((3, 1))\n",
    "\n",
    "column_sum_vector16 = np.sum(matrix16, axis=0)\n",
    "print(\"Матриця 3x3 з випадковими дійсними числами від 0 до 1:\\n\", matrix16)\n",
    "print(\"Вектор-стовпчик сум елементів кожного рядка:\\n\", row_sum_vector16)"
   ]
  },
  {
   "cell_type": "code",
   "execution_count": 19,
   "id": "14bbe737",
   "metadata": {},
   "outputs": [
    {
     "name": "stdout",
     "output_type": "stream",
     "text": [
      "\n",
      "Завдання 17\n",
      "Матриця 3x4 з довільними цілими числами:\n",
      " [[7 1 5 1]\n",
      " [5 4 6 9]\n",
      " [3 9 7 2]]\n",
      "Матриця з квадратами чисел:\n",
      " [[49  1 25  1]\n",
      " [25 16 36 81]\n",
      " [ 9 81 49  4]]\n"
     ]
    }
   ],
   "source": [
    "# Завдання 17\n",
    "print(\"\\nЗавдання 17\")\n",
    "matrix17 = np.random.randint(1, 11, size=(3, 4))\n",
    "squared_matrix17 = np.square(matrix17)\n",
    "print(\"Матриця 3x4 з довільними цілими числами:\\n\", matrix17)\n",
    "print(\"Матриця з квадратами чисел:\\n\", squared_matrix17)"
   ]
  },
  {
   "cell_type": "code",
   "execution_count": 20,
   "id": "bda1f1a1",
   "metadata": {},
   "outputs": [
    {
     "name": "stdout",
     "output_type": "stream",
     "text": [
      "\n",
      "Завдання 18\n",
      "Вектор розміром 4 з випадковими цілими числами від 1 до 50:\n",
      " [ 5 45 13 33]\n",
      "Вектор з квадратними коренями чисел:\n",
      " [2.23606798 6.70820393 3.60555128 5.74456265]\n"
     ]
    }
   ],
   "source": [
    "# Завдання 18\n",
    "print(\"\\nЗавдання 18\")\n",
    "vector18 = np.random.randint(1, 51, size=4)\n",
    "sqrt_vector18 = np.sqrt(vector18)\n",
    "print(\"Вектор розміром 4 з випадковими цілими числами від 1 до 50:\\n\", vector18)\n",
    "print(\"Вектор з квадратними коренями чисел:\\n\", sqrt_vector18)"
   ]
  }
 ],
 "metadata": {
  "kernelspec": {
   "display_name": "Python 3 (ipykernel)",
   "language": "python",
   "name": "python3"
  },
  "language_info": {
   "codemirror_mode": {
    "name": "ipython",
    "version": 3
   },
   "file_extension": ".py",
   "mimetype": "text/x-python",
   "name": "python",
   "nbconvert_exporter": "python",
   "pygments_lexer": "ipython3",
   "version": "3.10.8"
  }
 },
 "nbformat": 4,
 "nbformat_minor": 5
}
