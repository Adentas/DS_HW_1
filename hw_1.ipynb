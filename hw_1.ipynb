{
 "cells": [
  {
   "cell_type": "code",
   "execution_count": 5,
   "id": "8799c243-24f8-4fbf-b0d1-057ebde99f95",
   "metadata": {},
   "outputs": [],
   "source": [
    "import numpy as np"
   ]
  },
  {
   "cell_type": "code",
   "execution_count": 6,
   "id": "62dad188-41cf-47d9-a0b5-9c55bccaf486",
   "metadata": {},
   "outputs": [
    {
     "name": "stdout",
     "output_type": "stream",
     "text": [
      "\n",
      "Завдання 1\n",
      "Вектор з першими 10 натуральними числами: [ 1  2  3  4  5  6  7  8  9 10]\n"
     ]
    }
   ],
   "source": [
    "# Завдання 1\n",
    "print(\"\\nЗавдання 1\")\n",
    "vector1 = np.array([1, 2, 3, 4, 5, 6, 7, 8, 9, 10])\n",
    "print(\"Вектор з першими 10 натуральними числами:\", vector1)"
   ]
  },
  {
   "cell_type": "code",
   "execution_count": 7,
   "id": "02dc24f4-49cf-493f-8d01-b0f9b4b8f897",
   "metadata": {},
   "outputs": [
    {
     "name": "stdout",
     "output_type": "stream",
     "text": [
      "\n",
      "Завдання 2\n",
      "Двовимірний масив розміром 3x3, заповнений нулями:\n",
      " [[0. 0. 0.]\n",
      " [0. 0. 0.]\n",
      " [0. 0. 0.]]\n"
     ]
    }
   ],
   "source": [
    "# Завдання 2\n",
    "print(\"\\nЗавдання 2\")\n",
    "matrix2 = np.zeros((3, 3))\n",
    "print(\"Двовимірний масив розміром 3x3, заповнений нулями:\\n\", matrix2)"
   ]
  },
  {
   "cell_type": "code",
   "execution_count": 8,
   "id": "3ef5fa89-9d50-409a-ade1-434d9bb34a54",
   "metadata": {},
   "outputs": [
    {
     "name": "stdout",
     "output_type": "stream",
     "text": [
      "\n",
      "Завдання 3\n",
      "Масив розміром 5x5 з випадковими цілими числами від 1 до 10:\n",
      " [[ 9  3  4 10  6]\n",
      " [ 7  7  9  7 10]\n",
      " [ 8  9  6  8  6]\n",
      " [ 2  5  9  2  3]\n",
      " [ 6  2  3  9  8]]\n"
     ]
    }
   ],
   "source": [
    "# Завдання 3\n",
    "print(\"\\nЗавдання 3\")\n",
    "matrix3 = np.random.randint(1, 11, size=(5, 5))\n",
    "print(\"Масив розміром 5x5 з випадковими цілими числами від 1 до 10:\\n\", matrix3)"
   ]
  },
  {
   "cell_type": "code",
   "execution_count": 9,
   "id": "204a2b34-c96d-484f-a06d-3f6d57da9f0c",
   "metadata": {},
   "outputs": [
    {
     "name": "stdout",
     "output_type": "stream",
     "text": [
      "\n",
      "Завдання 4\n",
      "Масив розміром 4x4 з випадковими дійсними числами від 0 до 1:\n",
      " [[0.78344337 0.860293   0.25833676 0.65518334]\n",
      " [0.10298333 0.49602583 0.05431505 0.68320939]\n",
      " [0.15740282 0.31930571 0.68028041 0.85925841]\n",
      " [0.87224026 0.82182376 0.52304138 0.65188178]]\n"
     ]
    }
   ],
   "source": [
    "# Завдання 4\n",
    "print(\"\\nЗавдання 4\")\n",
    "matrix4 = np.random.rand(4, 4)\n",
    "print(\"Масив розміром 4x4 з випадковими дійсними числами від 0 до 1:\\n\", matrix4)"
   ]
  },
  {
   "cell_type": "code",
   "execution_count": 10,
   "id": "bcb13115",
   "metadata": {},
   "outputs": [
    {
     "name": "stdout",
     "output_type": "stream",
     "text": [
      "\n",
      "Завдання 5\n",
      "Одновимірний масив 1: [4 1 7 1 8]\n",
      "Одновимірний масив 2: [1 2 7 5 4]\n",
      "Сума: [ 5  3 14  6 12]\n",
      "Різниця: [ 3 -1  0 -4  4]\n",
      "Множення: [ 4  2 49  5 32]\n"
     ]
    }
   ],
   "source": [
    "# Завдання 5\n",
    "print(\"\\nЗавдання 5\")\n",
    "array5a = np.random.randint(1, 11, size=5)\n",
    "array5b = np.random.randint(1, 11, size=5)\n",
    "\n",
    "print(\"Одновимірний масив 1:\", array5a)\n",
    "print(\"Одновимірний масив 2:\", array5b)\n",
    "print(\"Сума:\", array5a + array5b)\n",
    "print(\"Різниця:\", array5a - array5b)\n",
    "print(\"Множення:\", array5a * array5b)"
   ]
  },
  {
   "cell_type": "code",
   "execution_count": 11,
   "id": "4151eacd",
   "metadata": {},
   "outputs": [
    {
     "name": "stdout",
     "output_type": "stream",
     "text": [
      "\n",
      "Завдання 6\n",
      "Вектор 1: [ 5  5  6  2  5 10  6]\n",
      "Вектор 2: [ 1  4  7  3 10  3  3]\n",
      "Скалярний добуток: 171\n"
     ]
    }
   ],
   "source": [
    "# Завдання 6\n",
    "print(\"\\nЗавдання 6\")\n",
    "vector6a = np.random.randint(1, 11, size=7)\n",
    "vector6b = np.random.randint(1, 11, size=7)\n",
    "scalar_product = np.dot(vector6a, vector6b)\n",
    "print(\"Вектор 1:\", vector6a)\n",
    "print(\"Вектор 2:\", vector6b)\n",
    "print(\"Скалярний добуток:\", scalar_product)"
   ]
  },
  {
   "cell_type": "code",
   "execution_count": 12,
   "id": "a4ebe464",
   "metadata": {},
   "outputs": [
    {
     "name": "stdout",
     "output_type": "stream",
     "text": [
      "\n",
      "Завдання 7\n",
      "Матриця 1:\n",
      " [[10  7]\n",
      " [ 5  3]]\n",
      "Матриця 2:\n",
      " [[10  7  1]\n",
      " [ 4  5 10]]\n",
      "Результат множення матриць:\n",
      " [[128 105  80]\n",
      " [ 62  50  35]]\n"
     ]
    }
   ],
   "source": [
    "# Завдання 7\n",
    "print(\"\\nЗавдання 7\")\n",
    "matrix7a = np.random.randint(1, 11, size=(2, 2))\n",
    "matrix7b = np.random.randint(1, 11, size=(2, 3))\n",
    "product7 = np.dot(matrix7a, matrix7b)\n",
    "print(\"Матриця 1:\\n\", matrix7a)\n",
    "print(\"Матриця 2:\\n\", matrix7b)\n",
    "print(\"Результат множення матриць:\\n\", product7)"
   ]
  },
  {
   "cell_type": "code",
   "execution_count": 13,
   "id": "5a054eb2",
   "metadata": {},
   "outputs": [
    {
     "name": "stdout",
     "output_type": "stream",
     "text": [
      "\n",
      "Завдання 8\n",
      "Матриця:\n",
      " [[5 7 9]\n",
      " [3 6 2]\n",
      " [2 3 4]]\n",
      "Обернена матриця:\n",
      " [[ 2.57142857 -0.14285714 -5.71428571]\n",
      " [-1.14285714  0.28571429  2.42857143]\n",
      " [-0.42857143 -0.14285714  1.28571429]]\n"
     ]
    }
   ],
   "source": [
    "# Завдання 8\n",
    "print(\"\\nЗавдання 8\")\n",
    "matrix8 = np.random.randint(1, 11, size=(3, 3))\n",
    "inverse_matrix8 = np.linalg.inv(matrix8)\n",
    "print(\"Матриця:\\n\", matrix8)\n",
    "print(\"Обернена матриця:\\n\", inverse_matrix8)"
   ]
  },
  {
   "cell_type": "code",
   "execution_count": 14,
   "id": "b95224f2",
   "metadata": {},
   "outputs": [
    {
     "name": "stdout",
     "output_type": "stream",
     "text": [
      "\n",
      "Завдання 9\n",
      "Матриця:\n",
      " [[0.81187106 0.92432547 0.43790756 0.5671952 ]\n",
      " [0.07718697 0.06115244 0.58285169 0.76250055]\n",
      " [0.59776995 0.14676132 0.76241009 0.26422626]\n",
      " [0.99276714 0.68629417 0.47479727 0.62812573]]\n",
      "Транспонована матриця:\n",
      " [[0.81187106 0.07718697 0.59776995 0.99276714]\n",
      " [0.92432547 0.06115244 0.14676132 0.68629417]\n",
      " [0.43790756 0.58285169 0.76241009 0.47479727]\n",
      " [0.5671952  0.76250055 0.26422626 0.62812573]]\n"
     ]
    }
   ],
   "source": [
    "# Завдання 9\n",
    "print(\"\\nЗавдання 9\")\n",
    "matrix9 = np.random.rand(4, 4)\n",
    "transposed_matrix9 = matrix9.T\n",
    "print(\"Матриця:\\n\", matrix9)\n",
    "print(\"Транспонована матриця:\\n\", transposed_matrix9)"
   ]
  },
  {
   "cell_type": "code",
   "execution_count": 15,
   "id": "b709bd09",
   "metadata": {},
   "outputs": [
    {
     "name": "stdout",
     "output_type": "stream",
     "text": [
      "\n",
      "Завдання 10\n",
      "Матриця:\n",
      " [[ 3 10  6  5]\n",
      " [ 8  2  9  7]\n",
      " [ 8  6  6 10]]\n",
      "Вектор:\n",
      " [ 8  6  9 10]\n",
      "Результат множення матриці на вектор:\n",
      " [188 227 254]\n"
     ]
    }
   ],
   "source": [
    "# Завдання 10\n",
    "print(\"\\nЗавдання 10\")\n",
    "matrix10 = np.random.randint(1, 11, size=(3, 4))\n",
    "vector10 = np.random.randint(1, 11, size=4)\n",
    "result10 = np.dot(matrix10, vector10)\n",
    "print(\"Матриця:\\n\", matrix10)\n",
    "print(\"Вектор:\\n\", vector10)\n",
    "print(\"Результат множення матриці на вектор:\\n\", result10)"
   ]
  },
  {
   "cell_type": "code",
   "execution_count": 16,
   "id": "a86d3297",
   "metadata": {},
   "outputs": [
    {
     "name": "stdout",
     "output_type": "stream",
     "text": [
      "\n",
      "Завдання 11\n",
      "Матриця:\n",
      " [[0.96018728 0.12145153 0.08800782]\n",
      " [0.22002352 0.11522189 0.42914031]]\n",
      "Вектор:\n",
      " [0.52285365 0.41132383 0.33965116]\n",
      "Результат множення матриці на вектор:\n",
      " [0.58188529 0.30819162]\n"
     ]
    }
   ],
   "source": [
    "# Завдання 11\n",
    "print(\"\\nЗавдання 11\")\n",
    "matrix11 = np.random.rand(2, 3)\n",
    "vector11 = np.random.rand(3)\n",
    "result11 = np.dot(matrix11, vector11)\n",
    "print(\"Матриця:\\n\", matrix11)\n",
    "print(\"Вектор:\\n\", vector11)\n",
    "print(\"Результат множення матриці на вектор:\\n\", result11)"
   ]
  },
  {
   "cell_type": "code",
   "execution_count": 17,
   "id": "ec96cc1e",
   "metadata": {},
   "outputs": [
    {
     "name": "stdout",
     "output_type": "stream",
     "text": [
      "\n",
      "Завдання 12\n",
      "Матриця 1:\n",
      " [[8 5]\n",
      " [2 8]]\n",
      "Матриця 2:\n",
      " [[ 3  9]\n",
      " [10  1]]\n",
      "Поелементне множення матриць:\n",
      " [[24 45]\n",
      " [20  8]]\n"
     ]
    }
   ],
   "source": [
    "# Завдання 12\n",
    "print(\"\\nЗавдання 12\")\n",
    "matrix12a = np.random.randint(1, 11, size=(2, 2))\n",
    "matrix12b = np.random.randint(1, 11, size=(2, 2))\n",
    "elementwise_product = matrix12a * matrix12b\n",
    "print(\"Матриця 1:\\n\", matrix12a)\n",
    "print(\"Матриця 2:\\n\", matrix12b)\n",
    "print(\"Поелементне множення матриць:\\n\", elementwise_product)"
   ]
  },
  {
   "cell_type": "code",
   "execution_count": 18,
   "id": "d0244e11",
   "metadata": {},
   "outputs": [
    {
     "name": "stdout",
     "output_type": "stream",
     "text": [
      "\n",
      "Завдання 13\n",
      "Матриця 1:\n",
      " [[10 10]\n",
      " [ 3  2]]\n",
      "Матриця 2:\n",
      " [[10  7]\n",
      " [10  5]]\n",
      "Добуток матриць:\n",
      " [[200 120]\n",
      " [ 50  31]]\n"
     ]
    }
   ],
   "source": [
    "# Завдання 13\n",
    "print(\"\\nЗавдання 13\")\n",
    "matrix13a = np.random.randint(1, 11, size=(2, 2))\n",
    "matrix13b = np.random.randint(1, 11, size=(2, 2))\n",
    "product13 = np.dot(matrix13a, matrix13b)\n",
    "print(\"Матриця 1:\\n\", matrix13a)\n",
    "print(\"Матриця 2:\\n\", matrix13b)\n",
    "print(\"Добуток матриць:\\n\", product13)"
   ]
  },
  {
   "cell_type": "code",
   "execution_count": 19,
   "id": "64f84de7",
   "metadata": {},
   "outputs": [
    {
     "name": "stdout",
     "output_type": "stream",
     "text": [
      "\n",
      "Завдання 14\n",
      "Матриця 5x5 з випадковими цілими числами від 1 до 100:\n",
      " [[ 6 71 76 36 67]\n",
      " [55 92 83  9  4]\n",
      " [19 96 49 13 38]\n",
      " [87 50  3 54 49]\n",
      " [78 74 15 33 73]]\n",
      "Сума елементів матриці:\n",
      " 1230\n"
     ]
    }
   ],
   "source": [
    "# Завдання 14\n",
    "print(\"\\nЗавдання 14\")\n",
    "matrix14 = np.random.randint(1, 101, size=(5, 5))\n",
    "sum_matrix14 = np.sum(matrix14)\n",
    "print(\"Матриця 5x5 з випадковими цілими числами від 1 до 100:\\n\", matrix14)\n",
    "print(\"Сума елементів матриці:\\n\", sum_matrix14)"
   ]
  },
  {
   "cell_type": "code",
   "execution_count": 20,
   "id": "65d47db7",
   "metadata": {},
   "outputs": [
    {
     "name": "stdout",
     "output_type": "stream",
     "text": [
      "\n",
      "Завдання 15\n",
      "Матриця 1:\n",
      " [[ 4  8  7  7]\n",
      " [ 9  6  2  8]\n",
      " [ 7  5  5 10]\n",
      " [ 2  9  2  4]]\n",
      "Матриця 2:\n",
      " [[ 8  1  9  1]\n",
      " [ 8  9  1  1]\n",
      " [10  5 10  9]\n",
      " [ 4  5  8  8]]\n",
      "Різниця матриць:\n",
      " [[-4  7 -2  6]\n",
      " [ 1 -3  1  7]\n",
      " [-3  0 -5  1]\n",
      " [-2  4 -6 -4]]\n"
     ]
    }
   ],
   "source": [
    "# Завдання 15\n",
    "print(\"\\nЗавдання 15\")\n",
    "matrix15a = np.random.randint(1, 11, size=(4, 4))\n",
    "matrix15b = np.random.randint(1, 11, size=(4, 4))\n",
    "difference15 = matrix15a - matrix15b\n",
    "print(\"Матриця 1:\\n\", matrix15a)\n",
    "print(\"Матриця 2:\\n\", matrix15b)\n",
    "print(\"Різниця матриць:\\n\", difference15)"
   ]
  },
  {
   "cell_type": "code",
   "execution_count": 21,
   "id": "236352d4",
   "metadata": {},
   "outputs": [
    {
     "name": "stdout",
     "output_type": "stream",
     "text": [
      "\n",
      "Завдання 16\n",
      "Матриця 3x3 з випадковими дійсними числами від 0 до 1:\n",
      " [[0.62214375 0.80413349 0.80906682]\n",
      " [0.73022046 0.236435   0.91694157]\n",
      " [0.82972571 0.22835833 0.50074419]]\n",
      "Вектор-стовпчик сум елементів кожного рядка:\n",
      " [2.23534405 1.88359702 1.55882823]\n"
     ]
    }
   ],
   "source": [
    "# Завдання 16\n",
    "print(\"\\nЗавдання 16\")\n",
    "matrix16 = np.random.rand(3, 3)\n",
    "row_sum_vector16 = np.sum(matrix16, axis=1)\n",
    "column_sum_vector16 = np.sum(matrix16, axis=0)\n",
    "print(\"Матриця 3x3 з випадковими дійсними числами від 0 до 1:\\n\", matrix16)\n",
    "print(\"Вектор-стовпчик сум елементів кожного рядка:\\n\", row_sum_vector16)"
   ]
  },
  {
   "cell_type": "code",
   "execution_count": 22,
   "id": "14bbe737",
   "metadata": {},
   "outputs": [
    {
     "name": "stdout",
     "output_type": "stream",
     "text": [
      "\n",
      "Завдання 17\n",
      "Матриця 3x4 з довільними цілими числами:\n",
      " [[ 8  6  9  4]\n",
      " [10 10  5  9]\n",
      " [ 1  8 10  3]]\n",
      "Матриця з квадратами чисел:\n",
      " [[ 64  36  81  16]\n",
      " [100 100  25  81]\n",
      " [  1  64 100   9]]\n"
     ]
    }
   ],
   "source": [
    "# Завдання 17\n",
    "print(\"\\nЗавдання 17\")\n",
    "matrix17 = np.random.randint(1, 11, size=(3, 4))\n",
    "squared_matrix17 = np.square(matrix17)\n",
    "print(\"Матриця 3x4 з довільними цілими числами:\\n\", matrix17)\n",
    "print(\"Матриця з квадратами чисел:\\n\", squared_matrix17)"
   ]
  },
  {
   "cell_type": "code",
   "execution_count": 23,
   "id": "bda1f1a1",
   "metadata": {},
   "outputs": [
    {
     "name": "stdout",
     "output_type": "stream",
     "text": [
      "\n",
      "Завдання 18\n",
      "Вектор розміром 4 з випадковими цілими числами від 1 до 50:\n",
      " [17 15 12 10]\n",
      "Вектор з квадратними коренями чисел:\n",
      " [4.12310563 3.87298335 3.46410162 3.16227766]\n"
     ]
    }
   ],
   "source": [
    "# Завдання 18\n",
    "print(\"\\nЗавдання 18\")\n",
    "vector18 = np.random.randint(1, 51, size=4)\n",
    "sqrt_vector18 = np.sqrt(vector18)\n",
    "print(\"Вектор розміром 4 з випадковими цілими числами від 1 до 50:\\n\", vector18)\n",
    "print(\"Вектор з квадратними коренями чисел:\\n\", sqrt_vector18)"
   ]
  }
 ],
 "metadata": {
  "kernelspec": {
   "display_name": "Python 3 (ipykernel)",
   "language": "python",
   "name": "python3"
  },
  "language_info": {
   "codemirror_mode": {
    "name": "ipython",
    "version": 3
   },
   "file_extension": ".py",
   "mimetype": "text/x-python",
   "name": "python",
   "nbconvert_exporter": "python",
   "pygments_lexer": "ipython3",
   "version": "3.10.8"
  }
 },
 "nbformat": 4,
 "nbformat_minor": 5
}
